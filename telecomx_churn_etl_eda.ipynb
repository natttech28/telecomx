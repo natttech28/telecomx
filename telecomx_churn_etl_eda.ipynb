{
 "cells": [
  {
   "cell_type": "markdown",
   "metadata": {},
   "source": [
    "# Telecom X — Churn de Clientes (ETL + EDA)\n",
    "\n",
    "Este notebook implementa o processo de ETL (Extração, Transformação, Carga) e a Análise Exploratória de Dados (EDA) para o problema de evasão de clientes (Churn) da Telecom X."
   ]
  },
  {
   "cell_type": "markdown",
   "metadata": {},
   "source": [
    "## 1) Importação de bibliotecas"
   ]
  },
  {
   "cell_type": "code",
   "execution_count": null,
   "metadata": {},
   "outputs": [],
   "source": [
    "import os\n",
    "import time\n",
    "import requests\n",
    "import numpy as np\n",
    "import pandas as pd\n",
    "import matplotlib.pyplot as plt\n",
    "import seaborn as sns"
   ]
  },
  {
   "cell_type": "markdown",
   "metadata": {},
   "source": [
    "## 2) Extração dos Dados (E — Extract)"
   ]
  },
  {
   "cell_type": "code",
   "execution_count": null,
   "metadata": {},
   "outputs": [],
   "source": [
    "# Exemplo: extraindo dados de um CSV hospedado no GitHub\n",
    "url = \"https://raw.githubusercontent.com/IBM/telco-customer-churn-on-icp4d/master/data/Telco-Customer-Churn.csv\"\n",
    "df_raw = pd.read_csv(url)\n",
    "df_raw.head()"
   ]
  },
  {
   "cell_type": "markdown",
   "metadata": {},
   "source": [
    "## 3) Transformação dos Dados (T — Transform)"
   ]
  },
  {
   "cell_type": "code",
   "execution_count": null,
   "metadata": {},
   "outputs": [],
   "source": [
    "# Limpeza e padronização\n",
    "df = df_raw.copy()\n",
    "\n",
    "# Corrigir valores vazios em TotalCharges\n",
    "df['TotalCharges'] = pd.to_numeric(df['TotalCharges'], errors='coerce')\n",
    "df['TotalCharges'].fillna(df['TotalCharges'].median(), inplace=True)\n",
    "\n",
    "# Mapear variáveis categóricas Yes/No para 1/0\n",
    "bool_map = {\"Yes\": 1, \"No\": 0}\n",
    "for col in ['Partner','Dependents','PhoneService','PaperlessBilling','Churn']:\n",
    "    df[col] = df[col].map(bool_map)\n",
    "\n",
    "# Feature extra: ticket médio anual\n",
    "df['AvgAnnualSpend'] = df['MonthlyCharges'] * 12\n",
    "\n",
    "df.head()"
   ]
  },
  {
   "cell_type": "markdown",
   "metadata": {},
   "source": [
    "## 4) Carga (L — Load)"
   ]
  },
  {
   "cell_type": "code",
   "execution_count": null,
   "metadata": {},
   "outputs": [],
   "source": [
    "# Salvar dataset tratado\n",
    "df.to_csv(\"churn_clean.csv\", index=False)\n",
    "df.to_parquet(\"churn_clean.parquet\", index=False)\n",
    "print(\"Dados tratados salvos com sucesso!\")"
   ]
  },
  {
   "cell_type": "markdown",
   "metadata": {},
   "source": [
    "## 5) Análise Exploratória (EDA)"
   ]
  },
  {
   "cell_type": "code",
   "execution_count": null,
   "metadata": {},
   "outputs": [],
   "source": [
    "# Taxa de churn\n",
    "churn_rate = df['Churn'].mean()\n",
    "print(f\"Taxa de churn: {churn_rate:.2%}\")\n",
    "\n",
    "# Distribuição de tenure\n",
    "plt.figure(figsize=(6,4))\n",
    "sns.histplot(df['tenure'], bins=30, kde=False)\n",
    "plt.title('Distribuição de Tenure (meses)')\n",
    "plt.show()"
   ]
  },
  {
   "cell_type": "code",
   "execution_count": null,
   "metadata": {},
   "outputs": [],
   "source": [
    "# Boxplot: MonthlyCharges por Churn\n",
    "plt.figure(figsize=(6,4))\n",
    "sns.boxplot(data=df, x='Churn', y='MonthlyCharges')\n",
    "plt.title('Monthly Charges por Churn')\n",
    "plt.show()"
   ]
  },
  {
   "cell_type": "code",
   "execution_count": null,
   "metadata": {},
   "outputs": [],
   "source": [
    "# Churn por tipo de contrato\n",
    "ct = pd.crosstab(df['Contract'], df['Churn'], normalize='index')\n",
    "ct.plot(kind='bar', stacked=True, figsize=(6,4))\n",
    "plt.title('Churn por Tipo de Contrato')\n",
    "plt.ylabel('Proporção')\n",
    "plt.show()"
   ]
  },
  {
   "cell_type": "markdown",
   "metadata": {},
   "source": [
    "## 6) Conclusão\n",
    "- O churn geral foi calculado.\n",
    "- Clientes com contrato *Month-to-month* apresentam maior taxa de evasão.\n",
    "- O tempo de permanência (tenure) também se mostrou relevante: clientes recentes tendem a sair mais.\n",
    "- Charges mais altas podem estar associadas a maior churn em alguns segmentos.\n",
    "\n",
    "Esses achados podem direcionar campanhas de retenção, ajustes de contratos e ofertas personalizadas."
   ]
  }
 ],
 "metadata": {
  "kernelspec": {
   "display_name": "Python 3",
   "language": "python",
   "name": "python3"
  },
  "language_info": {
   "name": "python",
   "version": "3.11"
  }
 },
 "nbformat": 4,
 "nbformat_minor": 5
}